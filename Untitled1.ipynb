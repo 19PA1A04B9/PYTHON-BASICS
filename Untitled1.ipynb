{
  "nbformat": 4,
  "nbformat_minor": 0,
  "metadata": {
    "colab": {
      "name": "Untitled1.ipynb",
      "provenance": [],
      "authorship_tag": "ABX9TyORVEw3a/f0XGV+uyRjzt/i",
      "include_colab_link": true
    },
    "kernelspec": {
      "name": "python3",
      "display_name": "Python 3"
    }
  },
  "cells": [
    {
      "cell_type": "markdown",
      "metadata": {
        "id": "view-in-github",
        "colab_type": "text"
      },
      "source": [
        "<a href=\"https://colab.research.google.com/github/19PA1A04B9/PYTHON-BASICS/blob/master/Untitled1.ipynb\" target=\"_parent\"><img src=\"https://colab.research.google.com/assets/colab-badge.svg\" alt=\"Open In Colab\"/></a>"
      ]
    },
    {
      "cell_type": "code",
      "metadata": {
        "id": "6gvLP5n3rRQ5",
        "colab_type": "code",
        "outputId": "9636d540-06f4-4e86-b611-afacde9e36d5",
        "colab": {
          "base_uri": "https://localhost:8080/",
          "height": 255
        }
      },
      "source": [
        "import pandas as pd\n",
        "facebook=pd.read_csv(\"pseudo_facebook.csv.zip\")\n",
        "print(facebook)"
      ],
      "execution_count": 0,
      "outputs": [
        {
          "output_type": "stream",
          "text": [
            "        userid  age  ...  www_likes  www_likes_received\n",
            "0      2094382   14  ...          0                   0\n",
            "1      1192601   14  ...          0                   0\n",
            "2      2083884   14  ...          0                   0\n",
            "3      1203168   14  ...          0                   0\n",
            "4      1733186   14  ...          0                   0\n",
            "...        ...  ...  ...        ...                 ...\n",
            "98998  1268299   68  ...        491                6202\n",
            "98999  1256153   18  ...          2                2820\n",
            "99000  1195943   15  ...          0                1092\n",
            "99001  1468023   23  ...          0                 756\n",
            "99002  1397896   39  ...          0                2913\n",
            "\n",
            "[99003 rows x 15 columns]\n"
          ],
          "name": "stdout"
        }
      ]
    }
  ]
}